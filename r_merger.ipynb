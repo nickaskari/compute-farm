{
 "cells": [
  {
   "cell_type": "code",
   "execution_count": 1,
   "metadata": {},
   "outputs": [
    {
     "name": "stdout",
     "output_type": "stream",
     "text": [
      "Merged requirements saved to requirements.txt and requirements_2.txt deleted.\n"
     ]
    }
   ],
   "source": [
    "import os\n",
    "import chardet\n",
    "\n",
    "def detect_encoding(filename):\n",
    "    with open(filename, 'rb') as f:\n",
    "        raw_data = f.read(10000)  # Read a portion of the file to detect encoding\n",
    "    return chardet.detect(raw_data)['encoding']\n",
    "\n",
    "def merge_requirements(file1: str, file2: str):\n",
    "    entries = {}\n",
    "    \n",
    "    def process_file(filename):\n",
    "        if os.path.exists(filename):\n",
    "            encoding = detect_encoding(filename)\n",
    "            with open(filename, 'r', encoding=encoding) as f:\n",
    "                for line in f:\n",
    "                    package = line.strip()\n",
    "                    if package:\n",
    "                        key = package.split(\"==\")[0].strip()  # Get package name without version\n",
    "                        entries[key] = package  # Store the whole line to preserve versions\n",
    "    \n",
    "    # Process both files, giving priority to file1\n",
    "    process_file(file1)\n",
    "    process_file(file2)\n",
    "    \n",
    "    # Write merged results back to requirements.txt with UTF-8 encoding\n",
    "    with open(file1, 'w', encoding='utf-8') as f:\n",
    "        for package in sorted(entries.values()):  # Sort alphabetically\n",
    "            f.write(package + '\\n')\n",
    "    \n",
    "    # Delete the second file\n",
    "    if os.path.exists(file2):\n",
    "        os.remove(file2)\n",
    "    \n",
    "    print(f\"Merged requirements saved to {file1} and {file2} deleted.\")\n",
    "\n",
    "if __name__ == \"__main__\":\n",
    "    merge_requirements(\"requirements.txt\", \"requirements_2.txt\")\n",
    "\n"
   ]
  }
 ],
 "metadata": {
  "kernelspec": {
   "display_name": "packages",
   "language": "python",
   "name": "python3"
  },
  "language_info": {
   "codemirror_mode": {
    "name": "ipython",
    "version": 3
   },
   "file_extension": ".py",
   "mimetype": "text/x-python",
   "name": "python",
   "nbconvert_exporter": "python",
   "pygments_lexer": "ipython3",
   "version": "3.12.3"
  }
 },
 "nbformat": 4,
 "nbformat_minor": 2
}
